{
 "cells": [
  {
   "cell_type": "markdown",
   "metadata": {},
   "source": [
    "# Лабораторная работа 1. Pandas, метод ближайших соседей и решающие деревья."
   ]
  },
  {
   "cell_type": "markdown",
   "metadata": {},
   "source": [
    "Масляков Глеб Олегович"
   ]
  },
  {
   "cell_type": "markdown",
   "metadata": {},
   "source": [
    "Группа №317"
   ]
  },
  {
   "cell_type": "markdown",
   "metadata": {},
   "source": [
    "## Часть 1: Pandas"
   ]
  },
  {
   "cell_type": "code",
   "execution_count": 3,
   "metadata": {
    "collapsed": true
   },
   "outputs": [],
   "source": [
    "import numpy as np\n",
    "import pandas as pd"
   ]
  },
  {
   "cell_type": "markdown",
   "metadata": {},
   "source": [
    "Ответьте на вопросы о данных по авиарейсам в США.\n",
    "\n",
    "Данные: http://stat-computing.org/dataexpo/2009/2008.csv.bz2 (обратите внимание, что распаковывать этот файл не обязательно — функция pandas.read_csv умеет читать из архивов автоматически)\n",
    "Описание: http://stat-computing.org/dataexpo/2009/the-data.html\n",
    "\n",
    "Какая из причин отмены рейса (CancellationCode) была самой частой? (расшифровки кодов можно найти в описании данных)\n",
    "Найдите среднее, минимальное и максимальное расстояние, пройденное самолетом.\n",
    "\n",
    "Не выглядит ли подозрительным минимальное пройденное расстояние? В какие дни и на каких рейсах оно было? Какое расстояние было пройдено этими же рейсами в другие дни?\n",
    "\n",
    "Из какого аэропорта было произведено больше всего вылетов? В каком городе он находится?\n",
    "Найдите для каждого аэропорта среднее время полета (AirTime) по всем вылетевшим из него рейсам. Какой аэропорт имеет наибольшее значение этого показателя?\n",
    "\n",
    "Найдите аэропорт, у которого наибольшая доля задержанных (DepDelay > 0) рейсов. Исключите при этом из рассмотрения аэропорты, из которых было отправлено меньше 1000 рейсов (используйте функцию filter после groupby)."
   ]
  },
  {
   "cell_type": "code",
   "execution_count": 3,
   "metadata": {
    "collapsed": false
   },
   "outputs": [],
   "source": [
    "df = pd.read_csv(\"/Users/admin/Downloads/2008.csv.bz2\")"
   ]
  },
  {
   "cell_type": "code",
   "execution_count": 4,
   "metadata": {
    "collapsed": false
   },
   "outputs": [],
   "source": [
    "CC = df.CancellationCode.value_counts()"
   ]
  },
  {
   "cell_type": "code",
   "execution_count": 7,
   "metadata": {
    "collapsed": false
   },
   "outputs": [
    {
     "data": {
      "text/plain": [
       "'B'"
      ]
     },
     "execution_count": 7,
     "metadata": {},
     "output_type": "execute_result"
    }
   ],
   "source": [
    "CC.argmax()"
   ]
  },
  {
   "cell_type": "markdown",
   "metadata": {},
   "source": [
    "Самая частая причина отмены рейса - это погода! "
   ]
  },
  {
   "cell_type": "code",
   "execution_count": 8,
   "metadata": {
    "collapsed": false
   },
   "outputs": [
    {
     "data": {
      "text/plain": [
       "4962"
      ]
     },
     "execution_count": 8,
     "metadata": {},
     "output_type": "execute_result"
    }
   ],
   "source": [
    "df[\"Distance\"].max()"
   ]
  },
  {
   "cell_type": "markdown",
   "metadata": {},
   "source": [
    "Максимальная длина полёта - 4962 мили! "
   ]
  },
  {
   "cell_type": "code",
   "execution_count": 9,
   "metadata": {
    "collapsed": false
   },
   "outputs": [
    {
     "data": {
      "text/plain": [
       "11"
      ]
     },
     "execution_count": 9,
     "metadata": {},
     "output_type": "execute_result"
    }
   ],
   "source": [
    "df[\"Distance\"].min()"
   ]
  },
  {
   "cell_type": "markdown",
   "metadata": {},
   "source": [
    "Минимальная длина полёта - 11 миль!"
   ]
  },
  {
   "cell_type": "markdown",
   "metadata": {},
   "source": [
    "На самом деле там просто два аэропорта рядом, и, видимо, там делали пересадку."
   ]
  },
  {
   "cell_type": "code",
   "execution_count": 4,
   "metadata": {
    "collapsed": false
   },
   "outputs": [
    {
     "data": {
      "text/plain": [
       "726.3870294253928"
      ]
     },
     "execution_count": 4,
     "metadata": {},
     "output_type": "execute_result"
    }
   ],
   "source": [
    "df[\"Distance\"].mean()"
   ]
  },
  {
   "cell_type": "markdown",
   "metadata": {},
   "source": [
    "Средняя длина полёта ~ 726.3870294253928 мили!"
   ]
  },
  {
   "cell_type": "code",
   "execution_count": 11,
   "metadata": {
    "collapsed": false
   },
   "outputs": [
    {
     "data": {
      "text/html": [
       "<div>\n",
       "<table border=\"1\" class=\"dataframe\">\n",
       "  <thead>\n",
       "    <tr style=\"text-align: right;\">\n",
       "      <th></th>\n",
       "      <th>Year</th>\n",
       "      <th>Month</th>\n",
       "      <th>DayofMonth</th>\n",
       "      <th>FlightNum</th>\n",
       "    </tr>\n",
       "  </thead>\n",
       "  <tbody>\n",
       "    <tr>\n",
       "      <th>2547298</th>\n",
       "      <td>2008</td>\n",
       "      <td>5</td>\n",
       "      <td>15</td>\n",
       "      <td>4988</td>\n",
       "    </tr>\n",
       "    <tr>\n",
       "      <th>4392215</th>\n",
       "      <td>2008</td>\n",
       "      <td>8</td>\n",
       "      <td>10</td>\n",
       "      <td>5572</td>\n",
       "    </tr>\n",
       "  </tbody>\n",
       "</table>\n",
       "</div>"
      ],
      "text/plain": [
       "         Year  Month  DayofMonth  FlightNum\n",
       "2547298  2008      5          15       4988\n",
       "4392215  2008      8          10       5572"
      ]
     },
     "execution_count": 11,
     "metadata": {},
     "output_type": "execute_result"
    }
   ],
   "source": [
    "df[df.Distance == 11][[\"Year\", \"Month\", \"DayofMonth\", \"FlightNum\"]]"
   ]
  },
  {
   "cell_type": "markdown",
   "metadata": {},
   "source": [
    "Самый короткий рейс происходит нечасто."
   ]
  },
  {
   "cell_type": "code",
   "execution_count": 12,
   "metadata": {
    "collapsed": false
   },
   "outputs": [
    {
     "data": {
      "text/plain": [
       "array([834,  96,  11, 414, 223, 712, 321, 903])"
      ]
     },
     "execution_count": 12,
     "metadata": {},
     "output_type": "execute_result"
    }
   ],
   "source": [
    "df[df.FlightNum == 4988][\"Distance\"].unique()"
   ]
  },
  {
   "cell_type": "code",
   "execution_count": 13,
   "metadata": {
    "collapsed": false
   },
   "outputs": [
    {
     "data": {
      "text/plain": [
       "array([544, 329,  11, 363, 134, 669, 508])"
      ]
     },
     "execution_count": 13,
     "metadata": {},
     "output_type": "execute_result"
    }
   ],
   "source": [
    "df[df.FlightNum == 5572][\"Distance\"].unique()"
   ]
  },
  {
   "cell_type": "code",
   "execution_count": 18,
   "metadata": {
    "collapsed": false
   },
   "outputs": [
    {
     "data": {
      "text/plain": [
       "'ATL'"
      ]
     },
     "execution_count": 18,
     "metadata": {},
     "output_type": "execute_result"
    }
   ],
   "source": [
    "df[\"Origin\"].value_counts().argmax()"
   ]
  },
  {
   "cell_type": "markdown",
   "metadata": {},
   "source": [
    "Это аэропорт Хартсфилд-Джексон Атланта!"
   ]
  },
  {
   "cell_type": "markdown",
   "metadata": {},
   "source": [
    "В другие дни ничего подобного не наблюдалось."
   ]
  },
  {
   "cell_type": "code",
   "execution_count": 20,
   "metadata": {
    "collapsed": false
   },
   "outputs": [
    {
     "data": {
      "text/plain": [
       "93.32041864013088"
      ]
     },
     "execution_count": 20,
     "metadata": {},
     "output_type": "execute_result"
    }
   ],
   "source": [
    "df[df.Origin == 'ATL'].AirTime.mean()"
   ]
  },
  {
   "cell_type": "code",
   "execution_count": 22,
   "metadata": {
    "collapsed": false
   },
   "outputs": [],
   "source": [
    "airport = df[\"Origin\"].unique()"
   ]
  },
  {
   "cell_type": "code",
   "execution_count": 27,
   "metadata": {
    "collapsed": true
   },
   "outputs": [],
   "source": [
    "mean_time = df.groupby(\"Origin\").AirTime.mean()"
   ]
  },
  {
   "cell_type": "code",
   "execution_count": 30,
   "metadata": {
    "collapsed": false
   },
   "outputs": [
    {
     "data": {
      "text/plain": [
       "'SJU'"
      ]
     },
     "execution_count": 30,
     "metadata": {},
     "output_type": "execute_result"
    }
   ],
   "source": [
    "mean_time.argmax()"
   ]
  },
  {
   "cell_type": "markdown",
   "metadata": {},
   "source": [
    "А это аэропорт Каролины!"
   ]
  },
  {
   "cell_type": "code",
   "execution_count": 11,
   "metadata": {
    "collapsed": false
   },
   "outputs": [
    {
     "data": {
      "text/html": [
       "<div>\n",
       "<table border=\"1\" class=\"dataframe\">\n",
       "  <thead>\n",
       "    <tr style=\"text-align: right;\">\n",
       "      <th>Origin</th>\n",
       "      <th>DAL</th>\n",
       "    </tr>\n",
       "  </thead>\n",
       "  <tbody>\n",
       "    <tr>\n",
       "      <th>DepDelay</th>\n",
       "      <td>0.578642</td>\n",
       "    </tr>\n",
       "  </tbody>\n",
       "</table>\n",
       "</div>"
      ],
      "text/plain": [
       "Origin         DAL\n",
       "DepDelay  0.578642"
      ]
     },
     "execution_count": 11,
     "metadata": {},
     "output_type": "execute_result"
    }
   ],
   "source": [
    "delay = pd.concat([df['Origin'], (df['DepDelay']>0).astype(int)], axis=1)\n",
    "g = delay.groupby('Origin').filter(lambda x: len(x) > 1000)\n",
    "m_del = g.groupby('Origin').mean()\n",
    "m_del.loc[m_del['DepDelay'] == m_del['DepDelay'].max()].T"
   ]
  },
  {
   "cell_type": "markdown",
   "metadata": {
    "collapsed": true
   },
   "source": [
    "Аэропорт - Даллас Love Field"
   ]
  },
  {
   "cell_type": "markdown",
   "metadata": {},
   "source": [
    "## Часть 2: метрические методы и категориальные признаки"
   ]
  },
  {
   "cell_type": "markdown",
   "metadata": {},
   "source": [
    "Все дальнейшие эксперименты предлагается проводить на данных соревнования Amazon Employee Access Challenge: https://www.kaggle.com/c/amazon-employee-access-challenge\n",
    "В данной задаче предлагается предсказать, будет ли одобрен запрос сотрудника на получение доступа к тому или иному ресурсу. Все признаки являются категориальными.\n",
    "Для удобства данные можно загрузить по ссылке: https://www.dropbox.com/s/q6fbs1vvhd5kvek/amazon.csv\n",
    "Сразу прочитаем данные и создадим разбиение на обучение и контроль:"
   ]
  },
  {
   "cell_type": "code",
   "execution_count": 33,
   "metadata": {
    "collapsed": false
   },
   "outputs": [
    {
     "data": {
      "text/html": [
       "<div>\n",
       "<table border=\"1\" class=\"dataframe\">\n",
       "  <thead>\n",
       "    <tr style=\"text-align: right;\">\n",
       "      <th></th>\n",
       "      <th>ACTION</th>\n",
       "      <th>RESOURCE</th>\n",
       "      <th>MGR_ID</th>\n",
       "      <th>ROLE_ROLLUP_1</th>\n",
       "      <th>ROLE_ROLLUP_2</th>\n",
       "      <th>ROLE_DEPTNAME</th>\n",
       "      <th>ROLE_TITLE</th>\n",
       "      <th>ROLE_FAMILY_DESC</th>\n",
       "      <th>ROLE_FAMILY</th>\n",
       "      <th>ROLE_CODE</th>\n",
       "    </tr>\n",
       "  </thead>\n",
       "  <tbody>\n",
       "    <tr>\n",
       "      <th>0</th>\n",
       "      <td>1</td>\n",
       "      <td>39353</td>\n",
       "      <td>85475</td>\n",
       "      <td>117961</td>\n",
       "      <td>118300</td>\n",
       "      <td>123472</td>\n",
       "      <td>117905</td>\n",
       "      <td>117906</td>\n",
       "      <td>290919</td>\n",
       "      <td>117908</td>\n",
       "    </tr>\n",
       "    <tr>\n",
       "      <th>1</th>\n",
       "      <td>1</td>\n",
       "      <td>17183</td>\n",
       "      <td>1540</td>\n",
       "      <td>117961</td>\n",
       "      <td>118343</td>\n",
       "      <td>123125</td>\n",
       "      <td>118536</td>\n",
       "      <td>118536</td>\n",
       "      <td>308574</td>\n",
       "      <td>118539</td>\n",
       "    </tr>\n",
       "    <tr>\n",
       "      <th>2</th>\n",
       "      <td>1</td>\n",
       "      <td>36724</td>\n",
       "      <td>14457</td>\n",
       "      <td>118219</td>\n",
       "      <td>118220</td>\n",
       "      <td>117884</td>\n",
       "      <td>117879</td>\n",
       "      <td>267952</td>\n",
       "      <td>19721</td>\n",
       "      <td>117880</td>\n",
       "    </tr>\n",
       "    <tr>\n",
       "      <th>3</th>\n",
       "      <td>1</td>\n",
       "      <td>36135</td>\n",
       "      <td>5396</td>\n",
       "      <td>117961</td>\n",
       "      <td>118343</td>\n",
       "      <td>119993</td>\n",
       "      <td>118321</td>\n",
       "      <td>240983</td>\n",
       "      <td>290919</td>\n",
       "      <td>118322</td>\n",
       "    </tr>\n",
       "    <tr>\n",
       "      <th>4</th>\n",
       "      <td>1</td>\n",
       "      <td>42680</td>\n",
       "      <td>5905</td>\n",
       "      <td>117929</td>\n",
       "      <td>117930</td>\n",
       "      <td>119569</td>\n",
       "      <td>119323</td>\n",
       "      <td>123932</td>\n",
       "      <td>19793</td>\n",
       "      <td>119325</td>\n",
       "    </tr>\n",
       "  </tbody>\n",
       "</table>\n",
       "</div>"
      ],
      "text/plain": [
       "   ACTION  RESOURCE  MGR_ID  ROLE_ROLLUP_1  ROLE_ROLLUP_2  ROLE_DEPTNAME  \\\n",
       "0       1     39353   85475         117961         118300         123472   \n",
       "1       1     17183    1540         117961         118343         123125   \n",
       "2       1     36724   14457         118219         118220         117884   \n",
       "3       1     36135    5396         117961         118343         119993   \n",
       "4       1     42680    5905         117929         117930         119569   \n",
       "\n",
       "   ROLE_TITLE  ROLE_FAMILY_DESC  ROLE_FAMILY  ROLE_CODE  \n",
       "0      117905            117906       290919     117908  \n",
       "1      118536            118536       308574     118539  \n",
       "2      117879            267952        19721     117880  \n",
       "3      118321            240983       290919     118322  \n",
       "4      119323            123932        19793     119325  "
      ]
     },
     "execution_count": 33,
     "metadata": {},
     "output_type": "execute_result"
    }
   ],
   "source": [
    "data = pd.read_csv('/Users/admin/Downloads/amazon.csv')\n",
    "data.head()"
   ]
  },
  {
   "cell_type": "code",
   "execution_count": 34,
   "metadata": {
    "collapsed": false
   },
   "outputs": [
    {
     "data": {
      "text/plain": [
       "(32769, 10)"
      ]
     },
     "execution_count": 34,
     "metadata": {},
     "output_type": "execute_result"
    }
   ],
   "source": [
    "data.shape"
   ]
  },
  {
   "cell_type": "code",
   "execution_count": 35,
   "metadata": {
    "collapsed": false
   },
   "outputs": [
    {
     "data": {
      "text/plain": [
       "0.9421099209618847"
      ]
     },
     "execution_count": 35,
     "metadata": {},
     "output_type": "execute_result"
    }
   ],
   "source": [
    "# доля положительных примеров\n",
    "data.ACTION.mean()"
   ]
  },
  {
   "cell_type": "code",
   "execution_count": 37,
   "metadata": {
    "collapsed": false
   },
   "outputs": [
    {
     "name": "stdout",
     "output_type": "stream",
     "text": [
      "ACTION 2\n",
      "RESOURCE 7518\n",
      "MGR_ID 4243\n",
      "ROLE_ROLLUP_1 128\n",
      "ROLE_ROLLUP_2 177\n",
      "ROLE_DEPTNAME 449\n",
      "ROLE_TITLE 343\n",
      "ROLE_FAMILY_DESC 2358\n",
      "ROLE_FAMILY 67\n",
      "ROLE_CODE 343\n"
     ]
    }
   ],
   "source": [
    "# число значений у признаков\n",
    "for col_name in data.columns:\n",
    "    print(col_name, len(data[col_name].unique()))"
   ]
  },
  {
   "cell_type": "code",
   "execution_count": 38,
   "metadata": {
    "collapsed": true
   },
   "outputs": [],
   "source": [
    "from sklearn.cross_validation import train_test_split\n",
    "X_train, X_test, y_train, y_test = train_test_split(data.iloc[:, 1:], data.iloc[:, 0],\n",
    "                                                    test_size=0.3, random_state=241)"
   ]
  },
  {
   "cell_type": "markdown",
   "metadata": {},
   "source": [
    "#### 1. Реализуйте три функции расстояния на категориальных признаках, которые обсуждались на втором семинаре."
   ]
  },
  {
   "cell_type": "markdown",
   "metadata": {},
   "source": [
    "Проще всего будет определить метрики как user-defined distance, после чего воспользоваться реализацией kNN из sklearn (в этом случае используйте функцию predict_proba). Можно реализовать метод k ближайших соседей и самостоятально — в этом случае учитите, что он должен возвращать оценку вероятности, то есть отношение объектов первого класса среди соседей к числу соседей).\n",
    "Постарайтесь уделить особое внимание эффективности кода — при реализации метрик \"в лоб\" вы можете столкнуться с очень большим временем выполнения."
   ]
  },
  {
   "cell_type": "markdown",
   "metadata": {},
   "source": [
    "Подсчитайте для каждой из метрик качество на тестовой выборке X_test при числе соседей $k = 10$. Мера качества — AUC-ROC."
   ]
  },
  {
   "cell_type": "markdown",
   "metadata": {},
   "source": [
    "Какая функция расстояния оказалась лучшей?"
   ]
  },
  {
   "cell_type": "code",
   "execution_count": 82,
   "metadata": {
    "collapsed": true
   },
   "outputs": [],
   "source": [
    "from sklearn.neighbors import KNeighborsClassifier"
   ]
  },
  {
   "cell_type": "code",
   "execution_count": 83,
   "metadata": {
    "collapsed": true
   },
   "outputs": [],
   "source": [
    "from sklearn.cross_validation import KFold, cross_val_score"
   ]
  },
  {
   "cell_type": "code",
   "execution_count": 127,
   "metadata": {
    "collapsed": true
   },
   "outputs": [],
   "source": [
    "from sklearn import metrics"
   ]
  },
  {
   "cell_type": "code",
   "execution_count": 74,
   "metadata": {
    "collapsed": false
   },
   "outputs": [],
   "source": [
    "X = X_train.values"
   ]
  },
  {
   "cell_type": "code",
   "execution_count": 75,
   "metadata": {
    "collapsed": false
   },
   "outputs": [
    {
     "data": {
      "text/plain": [
       "array([[ 40867,   8150, 117961, ..., 118054, 117887, 118055],\n",
       "       [ 38587,  14551,   5110, ..., 117897,  19721, 117900],\n",
       "       [  3853,  51301, 118290, ..., 118302, 118295, 126870],\n",
       "       ..., \n",
       "       [ 32270,  61062, 117961, ..., 303111, 118638, 119851],\n",
       "       [ 79299,  55667, 117902, ..., 130913, 292795, 119082],\n",
       "       [   691,   2983, 117961, ..., 117906, 290919, 118322]])"
      ]
     },
     "execution_count": 75,
     "metadata": {},
     "output_type": "execute_result"
    }
   ],
   "source": [
    "X"
   ]
  },
  {
   "cell_type": "code",
   "execution_count": 77,
   "metadata": {
    "collapsed": false
   },
   "outputs": [],
   "source": [
    "y = y_train.values"
   ]
  },
  {
   "cell_type": "code",
   "execution_count": 78,
   "metadata": {
    "collapsed": false
   },
   "outputs": [
    {
     "data": {
      "text/plain": [
       "array([1, 1, 1, ..., 1, 1, 1])"
      ]
     },
     "execution_count": 78,
     "metadata": {},
     "output_type": "execute_result"
    }
   ],
   "source": [
    "y"
   ]
  },
  {
   "cell_type": "code",
   "execution_count": 79,
   "metadata": {
    "collapsed": true
   },
   "outputs": [],
   "source": [
    "test_sample = X_test.values"
   ]
  },
  {
   "cell_type": "code",
   "execution_count": 80,
   "metadata": {
    "collapsed": true
   },
   "outputs": [],
   "source": [
    "test_ans = y_test.values"
   ]
  },
  {
   "cell_type": "markdown",
   "metadata": {},
   "source": [
    "Первая функция -  индикатор совпадения."
   ]
  },
  {
   "cell_type": "code",
   "execution_count": 110,
   "metadata": {
    "collapsed": true
   },
   "outputs": [],
   "source": [
    "def coin_indicator(x, y):\n",
    "    return np.sum((x - y) != 0, axis=0)"
   ]
  },
  {
   "cell_type": "markdown",
   "metadata": {},
   "source": [
    "Функции для обеспечения эффективной работы двух оставшихся метрик. Без них всё очень медленно."
   ]
  },
  {
   "cell_type": "markdown",
   "metadata": {},
   "source": [
    "Эта создаёт список (по столбцам) из словарей частот, с которыми встречаются признаки. Ключ - значение признака. Значение - частота."
   ]
  },
  {
   "cell_type": "code",
   "execution_count": 229,
   "metadata": {
    "collapsed": true
   },
   "outputs": [],
   "source": [
    "def create_list(X):\n",
    "    lst = []\n",
    "    for i in range(X.shape[1]):\n",
    "        lst.append({})\n",
    "    chast = np.zeros(X.shape, dtype=int)\n",
    "    uniq = np.unique(X)\n",
    "    uniq = uniq.reshape(1, uniq.shape[0])\n",
    "    chast_unique = np.zeros(uniq.shape[1], dtype=int)\n",
    "    for j in range(X.shape[1]):\n",
    "        for i in range(X.shape[0]):\n",
    "            chast_unique[(uniq == X[i, j]).any(axis=0)] += 1\n",
    "        for i in range(X.shape[0]):\n",
    "            chast[i, j] += chast_unique[(uniq == X[i, j]).any(axis=0)]\n",
    "        chast_unique = np.zeros(uniq.shape[1], dtype=int)\n",
    "    for j in range(X.shape[1]):\n",
    "        for i in range(X.shape[0]):\n",
    "            lst[j][X[i, j]] = chast[i, j]\n",
    "    return lst"
   ]
  },
  {
   "cell_type": "markdown",
   "metadata": {},
   "source": [
    "Тоже самое, только для положительных объектов."
   ]
  },
  {
   "cell_type": "code",
   "execution_count": 230,
   "metadata": {
    "collapsed": true
   },
   "outputs": [],
   "source": [
    "def create_pos_list(X, y):\n",
    "    lst = []\n",
    "    for i in range(X.shape[1]):\n",
    "        lst.append({})\n",
    "    chast = np.zeros(X.shape, dtype=int)\n",
    "    uniq = np.unique(X)\n",
    "    uniq = uniq.reshape(1, uniq.shape[0])\n",
    "    chast_unique = np.zeros(uniq.shape[1], dtype=int)\n",
    "    for j in range(X.shape[1]):\n",
    "        for i in range(X.shape[0]):\n",
    "            if y[i]:\n",
    "                chast_unique[(uniq == X[i, j]).any(axis=0)] += 1\n",
    "        for i in range(X.shape[0]):\n",
    "            chast[i, j] += chast_unique[(uniq == X[i, j]).any(axis=0)]\n",
    "        chast_unique = np.zeros(uniq.shape[1], dtype=int)\n",
    "    for j in range(X.shape[1]):\n",
    "        for i in range(X.shape[0]):\n",
    "            lst[j][X[i, j]] = chast[i, j]\n",
    "    return lst"
   ]
  },
  {
   "cell_type": "markdown",
   "metadata": {},
   "source": [
    "Создаёт матрицу частот."
   ]
  },
  {
   "cell_type": "code",
   "execution_count": 231,
   "metadata": {
    "collapsed": true
   },
   "outputs": [],
   "source": [
    "def create_chast(X):\n",
    "    chast = np.zeros(X.shape, dtype=int)\n",
    "    uniq = np.unique(X)\n",
    "    uniq = uniq.reshape(1, uniq.shape[0])\n",
    "    chast_unique = np.zeros(uniq.shape[1], dtype=int)\n",
    "    for j in range(X.shape[1]):\n",
    "        for i in range(X.shape[0]):\n",
    "            chast_unique[(uniq == X[i, j]).any(axis=0)] += 1\n",
    "        for i in range(X.shape[0]):\n",
    "            chast[i, j] += chast_unique[(uniq == X[i, j]).any(axis=0)]\n",
    "        chast_unique = np.zeros(uniq.shape[1], dtype=int)\n",
    "    return chast"
   ]
  },
  {
   "cell_type": "code",
   "execution_count": 409,
   "metadata": {
    "collapsed": false
   },
   "outputs": [],
   "source": [
    "lst = create_list(X)\n",
    "pos_lst = create_pos_list(X, y)\n",
    "chast = create_chast(X)"
   ]
  },
  {
   "cell_type": "code",
   "execution_count": 244,
   "metadata": {
    "collapsed": true
   },
   "outputs": [],
   "source": [
    "l = X.shape[0]"
   ]
  },
  {
   "cell_type": "markdown",
   "metadata": {},
   "source": [
    "Сглаженный индикатор расстояния."
   ]
  },
  {
   "cell_type": "code",
   "execution_count": 397,
   "metadata": {
    "collapsed": true
   },
   "outputs": [],
   "source": [
    "def coin_indicator_2(x, y):\n",
    "    res = np.sum(np.not_equal(x, y), axis=0)\n",
    "    ch_y = np.zeros(y.shape[0])\n",
    "    for i in range(ch_y.shape[0]):\n",
    "        ch_y[i] = lst[i][y[i]]\n",
    "    s = 0.0\n",
    "    for i in range(y.shape[0]):\n",
    "        if x[i] == y[i]:\n",
    "            p = np.array(list(lst[i].values()))\n",
    "            s += np.sum((p[p <= y[i]])*(p[p <= y[i]] - 1)/(l*(l-1)))\n",
    "    return res + s"
   ]
  },
  {
   "cell_type": "markdown",
   "metadata": {},
   "source": [
    "Третья метрика. Не знал как называется, поэтому назвал по аналогии с другими."
   ]
  },
  {
   "cell_type": "code",
   "execution_count": 413,
   "metadata": {
    "collapsed": true
   },
   "outputs": [],
   "source": [
    "def coin_indicator_3(x, y):\n",
    "    ch_x = np.zeros(x.shape[0])\n",
    "    ch_y = np.zeros(x.shape[0])\n",
    "    for i in range(x.shape[0]):\n",
    "        if x[i] in lst[i]:\n",
    "            ch_x[i] = lst[i][x[i]]\n",
    "    for i in range(x.shape[0]):\n",
    "        ch_y[i] = lst[i][y[i]]\n",
    "    return np.sum(np.not_equal(x, y) * np.log(ch_x + 1) * np.log(ch_y + 1), axis=0)"
   ]
  },
  {
   "cell_type": "markdown",
   "metadata": {},
   "source": [
    "Считаем для второй метрики."
   ]
  },
  {
   "cell_type": "code",
   "execution_count": 417,
   "metadata": {
    "collapsed": false
   },
   "outputs": [],
   "source": [
    "nei = KNeighborsClassifier(n_neighbors=k, algorithm=\"brute\", metric=coin_indicator_2)\n",
    "nei.fit(X, y)\n",
    "predict = nei.predict_proba(test_sample)\n",
    "finish = time.clock() - start\n",
    "arg = predict[:,1].argsort()\n",
    "fpr, tpr, thresholds = metrics.roc_curve(test_ans[arg], predict[arg, 1], pos_label=1)\n",
    "score = metrics.auc(fpr, tpr)"
   ]
  },
  {
   "cell_type": "code",
   "execution_count": 418,
   "metadata": {
    "collapsed": false
   },
   "outputs": [
    {
     "name": "stdout",
     "output_type": "stream",
     "text": [
      "0.822127712111\n"
     ]
    }
   ],
   "source": [
    "print(score)"
   ]
  },
  {
   "cell_type": "markdown",
   "metadata": {},
   "source": [
    "Считаем для третьей метрики."
   ]
  },
  {
   "cell_type": "code",
   "execution_count": 419,
   "metadata": {
    "collapsed": false
   },
   "outputs": [],
   "source": [
    "start = time.clock()\n",
    "nei = KNeighborsClassifier(n_neighbors=k, algorithm=\"brute\", metric=coin_indicator_3)\n",
    "nei.fit(X, y)\n",
    "predict = nei.predict_proba(test_sample)\n",
    "finish = time.clock() - start\n",
    "arg = predict[:,1].argsort()\n",
    "fpr, tpr, thresholds = metrics.roc_curve(test_ans[arg], predict[arg, 1], pos_label=1)\n",
    "score = metrics.auc(fpr, tpr)"
   ]
  },
  {
   "cell_type": "code",
   "execution_count": 420,
   "metadata": {
    "collapsed": false
   },
   "outputs": [
    {
     "name": "stdout",
     "output_type": "stream",
     "text": [
      "0.805996566798\n"
     ]
    }
   ],
   "source": [
    "print(score)"
   ]
  },
  {
   "cell_type": "markdown",
   "metadata": {},
   "source": [
    "Считаем для первой метрики."
   ]
  },
  {
   "cell_type": "code",
   "execution_count": 198,
   "metadata": {
    "collapsed": false
   },
   "outputs": [],
   "source": [
    "nei = KNeighborsClassifier(n_neighbors=10, algorithm=\"brute\", metric=coin_indicator)"
   ]
  },
  {
   "cell_type": "code",
   "execution_count": 199,
   "metadata": {
    "collapsed": false
   },
   "outputs": [
    {
     "data": {
      "text/plain": [
       "KNeighborsClassifier(algorithm='brute', leaf_size=30,\n",
       "           metric=<function coin_indicator at 0x1140539d8>,\n",
       "           metric_params=None, n_jobs=1, n_neighbors=10, p=2,\n",
       "           weights='uniform')"
      ]
     },
     "execution_count": 199,
     "metadata": {},
     "output_type": "execute_result"
    }
   ],
   "source": [
    "nei.fit(X, y)"
   ]
  },
  {
   "cell_type": "code",
   "execution_count": 200,
   "metadata": {
    "collapsed": false
   },
   "outputs": [],
   "source": [
    "predict = nei.predict_proba(test_sample)"
   ]
  },
  {
   "cell_type": "code",
   "execution_count": 139,
   "metadata": {
    "collapsed": true
   },
   "outputs": [],
   "source": [
    "arg = predict[:,1].argsort()"
   ]
  },
  {
   "cell_type": "code",
   "execution_count": 147,
   "metadata": {
    "collapsed": true
   },
   "outputs": [],
   "source": [
    "fpr, tpr, thresholds = metrics.roc_curve(test_ans[arg], predict[arg, 1], pos_label=1)"
   ]
  },
  {
   "cell_type": "code",
   "execution_count": 148,
   "metadata": {
    "collapsed": false
   },
   "outputs": [
    {
     "data": {
      "text/plain": [
       "0.829499015542142"
      ]
     },
     "execution_count": 148,
     "metadata": {},
     "output_type": "execute_result"
    }
   ],
   "source": [
    "metrics.auc(fpr, tpr)"
   ]
  },
  {
   "cell_type": "markdown",
   "metadata": {},
   "source": [
    "В итоге, самый лучший результат, с точностью 82.9499% (почти 83%) показал индикатор совпадения. На втором месте сглаженный индикатор, на третьем неизвестная метрика."
   ]
  },
  {
   "cell_type": "markdown",
   "metadata": {},
   "source": [
    "### 3. Реализуйте счетчики (http://blogs.technet.com/b/machinelearning/archive/2015/02/17/big-learning-made-easy-with-counts.aspx), которые заменят категориальные признаки на вещественные."
   ]
  },
  {
   "cell_type": "markdown",
   "metadata": {},
   "source": [
    "А именно, каждый категориальный признак нужно заменить на три:\n",
    "Число counts объектов в обучающей выборке с таким же значением признака.\n",
    "Число successes объектов первого класса ($y = 1$) в обучающей выборке с таким же значением признака.\n",
    "Сглаженное отношение двух предыдущих величин: (successes + 1) / (counts + 2).\n",
    "Поскольку признаки, содержащие информацию о целевой переменной, могут привести к переобучению, может оказаться полезным сделать фолдинг: разбить обучающую выборку на $n$ частей, и для $i$-й части считать counts и successes по всем остальным частям. Для тестовой выборки используются счетчики, посчитанные по всей обучающей выборке. Реализуйте и такой вариант. Можно использовать $n = 3$."
   ]
  },
  {
   "cell_type": "markdown",
   "metadata": {},
   "source": [
    "#### Посчитайте на тесте AUC-ROC метода $k$ ближайших соседей с евклидовой метрикой для выборки, где категориальные признаки заменены на счетчики. Сравните по AUC-ROC два варианта формирования выборки — с фолдингом и без. Не забудьте подобрать наилучшее число соседей $k$."
   ]
  },
  {
   "cell_type": "markdown",
   "metadata": {},
   "source": [
    "Функция счётчиков."
   ]
  },
  {
   "cell_type": "code",
   "execution_count": 292,
   "metadata": {
    "collapsed": true
   },
   "outputs": [],
   "source": [
    "def counts(X, y, arr):\n",
    "    lst = create_list(X)\n",
    "    pos_lst = create_pos_list(X, y)\n",
    "    new = np.zeros((arr.shape[0], arr.shape[1] * 3))\n",
    "    for j in range(arr.shape[1]):\n",
    "        for i in range(arr.shape[0]):\n",
    "            if arr[i, j] in lst[j]:\n",
    "                new[i, j] = lst[j][arr[i, j]]\n",
    "                if arr[i, j] in pos_lst[j]:\n",
    "                    new[i, j + arr.shape[1]] = pos_lst[j][arr[i, j]]\n",
    "                new[i, j + 2 * arr.shape[1]] = (new[i, j + arr.shape[1]] + 1) / (new[i, j] + 2)\n",
    "    return new"
   ]
  },
  {
   "cell_type": "code",
   "execution_count": 381,
   "metadata": {
    "collapsed": false
   },
   "outputs": [],
   "source": [
    "count_sample = counts(X, y, X)\n",
    "count_test = counts(X, y, test_sample)"
   ]
  },
  {
   "cell_type": "markdown",
   "metadata": {},
   "source": [
    "Находим оптимальное число соседей без фолдинга."
   ]
  },
  {
   "cell_type": "code",
   "execution_count": 383,
   "metadata": {
    "collapsed": false
   },
   "outputs": [],
   "source": [
    "max_score = 0\n",
    "best_k = 0\n",
    "for k in range(1, 21):\n",
    "    nei = KNeighborsClassifier(n_neighbors=k, algorithm=\"brute\", metric='euclidean')\n",
    "    nei.fit(count_sample, y)\n",
    "    predict = nei.predict_proba(count_test)\n",
    "    arg = predict[:,1].argsort()\n",
    "    fpr, tpr, thresholds = metrics.roc_curve(test_ans[arg], predict[arg, 1], pos_label=1)\n",
    "    score = metrics.auc(fpr, tpr)\n",
    "    if score > max_score:\n",
    "        max_score = score\n",
    "        best_k = k"
   ]
  },
  {
   "cell_type": "code",
   "execution_count": 384,
   "metadata": {
    "collapsed": false
   },
   "outputs": [
    {
     "name": "stdout",
     "output_type": "stream",
     "text": [
      "0.796083338545\n",
      "14\n"
     ]
    }
   ],
   "source": [
    "print(max_score)\n",
    "print(best_k)"
   ]
  },
  {
   "cell_type": "markdown",
   "metadata": {},
   "source": [
    "Наилучший результат 79.6% достигается при 14 соседях."
   ]
  },
  {
   "cell_type": "markdown",
   "metadata": {},
   "source": [
    "Теперь с фолдингом."
   ]
  },
  {
   "cell_type": "code",
   "execution_count": 385,
   "metadata": {
    "collapsed": true
   },
   "outputs": [],
   "source": [
    "f_size = int(X.shape[0] / 3)\n",
    "count_samp_fol = counts(X[f_size:], y[f_size:], X[:f_size])\n",
    "count_samp_fol = np.vstack((count_samp_fol,\n",
    "                     counts(np.vstack((X[:f_size], X[2*f_size:])), np.hstack((y[:f_size], y[2*f_size:])), X[f_size:2*f_size])))\n",
    "count_samp_fol = np.vstack((count_samp_fol, counts(X[:2*f_size], y[:2*f_size], X[2*f_size:])))"
   ]
  },
  {
   "cell_type": "code",
   "execution_count": 387,
   "metadata": {
    "collapsed": false
   },
   "outputs": [],
   "source": [
    "max_score = 0\n",
    "best_k = 0\n",
    "for k in range(1, 21):\n",
    "    nei = KNeighborsClassifier(n_neighbors=k, algorithm=\"brute\", metric='euclidean')\n",
    "    nei.fit(count_samp_fol, y)\n",
    "    predict = nei.predict_proba(count_test)\n",
    "    arg = predict[:,1].argsort()\n",
    "    fpr, tpr, thresholds = metrics.roc_curve(test_ans[arg], predict[arg, 1], pos_label=1)\n",
    "    score = metrics.auc(fpr, tpr)\n",
    "    if score > max_score:\n",
    "        max_score = score\n",
    "        best_k = k"
   ]
  },
  {
   "cell_type": "code",
   "execution_count": 388,
   "metadata": {
    "collapsed": false
   },
   "outputs": [
    {
     "name": "stdout",
     "output_type": "stream",
     "text": [
      "0.57500354031\n",
      "14\n"
     ]
    }
   ],
   "source": [
    "print(max_score)\n",
    "print(best_k)"
   ]
  },
  {
   "cell_type": "markdown",
   "metadata": {},
   "source": [
    "Наилучший результат также при 14 соседях, но на этот раз 57.5%. Видимо фолдинги переобучают модель?  "
   ]
  },
  {
   "cell_type": "markdown",
   "metadata": {},
   "source": [
    "#### 4. Добавьте в исходную выборку парные признаки — то есть для каждой пары $(f_i, f_j)$, $i &lt; j$ исходных категориальных признаков добавьте новый категориальный признак $f_{ij}$, значение которого является конкатенацией значений $f_i$ и $f_j$ (желательно через какой-нибудь специальный символ во избежание коллизий). Посчитайте счетчики для этой выборки, найдите качество метода $k$ ближайших соседей с наилучшим $k$ (с фолдингом и без)."
   ]
  },
  {
   "cell_type": "code",
   "execution_count": 340,
   "metadata": {
    "collapsed": false
   },
   "outputs": [],
   "source": [
    "pair_sample = np.zeros((X.shape[0], 36), dtype='<U20')\n",
    "for p in range(X.shape[0]):\n",
    "    col = 0\n",
    "    for i in range(1, X.shape[1]):\n",
    "        for j in range(i):\n",
    "            pair_sample[p, col] = str(X[p, j])+\"$\"+str(X[p, i])\n",
    "            col += 1"
   ]
  },
  {
   "cell_type": "code",
   "execution_count": 343,
   "metadata": {
    "collapsed": true
   },
   "outputs": [],
   "source": [
    "pair_test = np.zeros((test_sample.shape[0], 36), dtype='<U20')\n",
    "for p in range(test_sample.shape[0]):\n",
    "    col = 0\n",
    "    for i in range(1, test_sample.shape[1]):\n",
    "        for j in range(i):\n",
    "            pair_test[p, col] = str(test_sample[p, j])+\"$\"+str(test_sample[p, i])\n",
    "            col += 1"
   ]
  },
  {
   "cell_type": "markdown",
   "metadata": {},
   "source": [
    "Без фолдинга."
   ]
  },
  {
   "cell_type": "code",
   "execution_count": 344,
   "metadata": {
    "collapsed": true
   },
   "outputs": [],
   "source": [
    "new_test = counts(pair_sample, y, pair_test)"
   ]
  },
  {
   "cell_type": "code",
   "execution_count": 346,
   "metadata": {
    "collapsed": false
   },
   "outputs": [],
   "source": [
    "new_sample = counts(pair_sample, y, pair_sample)"
   ]
  },
  {
   "cell_type": "code",
   "execution_count": 354,
   "metadata": {
    "collapsed": true
   },
   "outputs": [],
   "source": [
    "max_score = 0\n",
    "max_nei = 0\n",
    "for k in range(1, 21):\n",
    "    nei = KNeighborsClassifier(n_neighbors=k, algorithm=\"brute\", metric='euclidean')\n",
    "    nei.fit(new_sample, y)\n",
    "    predict = nei.predict_proba(new_test)\n",
    "    arg = predict[:,1].argsort()\n",
    "    fpr, tpr, thresholds = metrics.roc_curve(test_ans[arg], predict[arg, 1], pos_label=1)\n",
    "    score = metrics.auc(fpr, tpr)\n",
    "    if score > max_score:\n",
    "        max_nei = k\n",
    "        max_score = score"
   ]
  },
  {
   "cell_type": "code",
   "execution_count": 355,
   "metadata": {
    "collapsed": false
   },
   "outputs": [
    {
     "name": "stdout",
     "output_type": "stream",
     "text": [
      "8\n",
      "0.811110787631\n"
     ]
    }
   ],
   "source": [
    "print(max_nei)\n",
    "print(max_score)"
   ]
  },
  {
   "cell_type": "markdown",
   "metadata": {},
   "source": [
    "Наилучший результат 81.111% при 8-ми соседях."
   ]
  },
  {
   "cell_type": "markdown",
   "metadata": {},
   "source": [
    "С фолдингом."
   ]
  },
  {
   "cell_type": "code",
   "execution_count": 359,
   "metadata": {
    "collapsed": false
   },
   "outputs": [],
   "source": [
    "new_samp_fol = counts(pair_sample[f_size:], y[f_size:], pair_sample[:f_size])"
   ]
  },
  {
   "cell_type": "code",
   "execution_count": 361,
   "metadata": {
    "collapsed": true
   },
   "outputs": [],
   "source": [
    "new_samp_fol = np.vstack((new_samp_fol,\n",
    "                     counts(np.vstack((pair_sample[:f_size], pair_sample[2*f_size:])), \n",
    "                            np.concatenate((y[:f_size], y[2*f_size:])),\n",
    "                            pair_sample[f_size:2*f_size])))"
   ]
  },
  {
   "cell_type": "code",
   "execution_count": 364,
   "metadata": {
    "collapsed": false
   },
   "outputs": [],
   "source": [
    "new_samp_fol = np.vstack((new_samp_fol, counts(pair_sample[:2*f_size], y[:2*f_size], pair_sample[2*f_size:])))"
   ]
  },
  {
   "cell_type": "code",
   "execution_count": 389,
   "metadata": {
    "collapsed": true
   },
   "outputs": [],
   "source": [
    "max_score = 0\n",
    "max_nei = 0\n",
    "for k in range(1, 21):\n",
    "    nei = KNeighborsClassifier(n_neighbors=k, algorithm=\"brute\", metric='euclidean')\n",
    "    nei.fit(new_samp_fol, y)\n",
    "    predict = nei.predict_proba(new_test)\n",
    "    arg = predict[:,1].argsort()\n",
    "    fpr, tpr, thresholds = metrics.roc_curve(test_ans[arg], predict[arg, 1], pos_label=1)\n",
    "    score = metrics.auc(fpr, tpr)\n",
    "    if score > max_score:\n",
    "        max_nei = k\n",
    "        max_score = score"
   ]
  },
  {
   "cell_type": "code",
   "execution_count": 390,
   "metadata": {
    "collapsed": false
   },
   "outputs": [
    {
     "name": "stdout",
     "output_type": "stream",
     "text": [
      "0.579538462147\n",
      "18\n"
     ]
    }
   ],
   "source": [
    "print(max_score)\n",
    "print(max_nei)"
   ]
  },
  {
   "cell_type": "markdown",
   "metadata": {},
   "source": [
    "Как и в прошлый раз результат упал. Наверное, переобучение? Или влияет то, что тестовая выборка переводится на основании частотных характеристик обучающей, которые не актуальны для фолдов?"
   ]
  },
  {
   "cell_type": "markdown",
   "metadata": {},
   "source": [
    "## Часть 3: Решающие деревья и леса"
   ]
  },
  {
   "cell_type": "markdown",
   "metadata": {},
   "source": [
    "#### 1. Возьмите из предыдущей части выборку с парными признаками, преобразованную с помощью счетчиков без фолдинга. Настройте решающее дерево, подобрав оптимальные значения параметров max_depth и min_samples_leaf. Какой наилучший AUC-ROC на контроле удалось получить?"
   ]
  },
  {
   "cell_type": "code",
   "execution_count": 369,
   "metadata": {
    "collapsed": true
   },
   "outputs": [],
   "source": [
    "from sklearn import tree"
   ]
  },
  {
   "cell_type": "code",
   "execution_count": 438,
   "metadata": {
    "collapsed": false
   },
   "outputs": [],
   "source": [
    "max_score = 0\n",
    "dep_leaf = [0, 0]\n",
    "for i in [1,10,25,50,75,100]:\n",
    "    for j in [1,10,20,30,50,100,200,300,500,1000,5000,10000,20000]:\n",
    "        clf = tree.DecisionTreeClassifier(max_depth = i, min_samples_leaf = i)\n",
    "        clf.fit(new_sample, y)\n",
    "        predict = clf.predict_proba(new_test)\n",
    "        arg = predict[:,1].argsort()\n",
    "        fpr, tpr, thresholds = metrics.roc_curve(test_ans[arg], predict[arg, 1], pos_label=1)\n",
    "        score = metrics.auc(fpr, tpr)\n",
    "        if max_score < score:\n",
    "            dep_leaf[0], dep_leaf[1] = i, j\n",
    "            max_score = score"
   ]
  },
  {
   "cell_type": "code",
   "execution_count": 439,
   "metadata": {
    "collapsed": false
   },
   "outputs": [
    {
     "name": "stdout",
     "output_type": "stream",
     "text": [
      "0.580390472863\n"
     ]
    }
   ],
   "source": [
    "print(max_score)"
   ]
  },
  {
   "cell_type": "code",
   "execution_count": 440,
   "metadata": {
    "collapsed": false
   },
   "outputs": [
    {
     "name": "stdout",
     "output_type": "stream",
     "text": [
      "[50, 1000]\n"
     ]
    }
   ],
   "source": [
    "print(dep_leaf)"
   ]
  },
  {
   "cell_type": "markdown",
   "metadata": {},
   "source": [
    "Не самый лучший результат. Всего лишь 58%. Видимо деревья по-одиночке действительно не очень."
   ]
  },
  {
   "cell_type": "markdown",
   "metadata": {},
   "source": [
    "#### 2. Настройте случайный лес, подобрав такое число деревьев n_estimators, при котором ошибка выходит на асимптоту. Какое качество на тестовой выборке он дает?"
   ]
  },
  {
   "cell_type": "code",
   "execution_count": 444,
   "metadata": {
    "collapsed": true
   },
   "outputs": [],
   "source": [
    "from sklearn import ensemble"
   ]
  },
  {
   "cell_type": "code",
   "execution_count": 446,
   "metadata": {
    "collapsed": false
   },
   "outputs": [],
   "source": [
    "max_score = 0\n",
    "estim = 0\n",
    "auc_lst = []\n",
    "n_est = [1,10,20,30,40,50,100,200,300,400,500,1000,2000,3000,4000,5000,10000,15000,20000]\n",
    "for i in n_est:\n",
    "    rf = ensemble.RandomForestClassifier(n_estimators=i)\n",
    "    rf.fit(new_sample, y)\n",
    "    predict = rf.predict_proba(new_test)\n",
    "    arg = predict[:,1].argsort()\n",
    "    fpr, tpr, thresholds = metrics.roc_curve(test_ans[arg], predict[arg, 1], pos_label=1)\n",
    "    score = metrics.auc(fpr, tpr)\n",
    "    auc_lst.append(score)"
   ]
  },
  {
   "cell_type": "code",
   "execution_count": 454,
   "metadata": {
    "collapsed": false
   },
   "outputs": [
    {
     "name": "stdout",
     "output_type": "stream",
     "text": [
      "[0.54261688954447529, 0.55918239678647652, 0.6308563381618133, 0.64860425512949638, 0.69147175191805743, 0.63036015558675351, 0.71442527285548851, 0.70148031695301849, 0.68749609128177924, 0.69534767284801258, 0.70089832228828408, 0.70783310725666559, 0.70462634091498877, 0.7070580129262658, 0.70358473490084616, 0.70375959388148124, 0.70795953407359968, 0.7061812919221262, 0.70835166387395487]\n"
     ]
    }
   ],
   "source": [
    "print(auc_lst)"
   ]
  },
  {
   "cell_type": "code",
   "execution_count": 450,
   "metadata": {
    "collapsed": false
   },
   "outputs": [
    {
     "name": "stdout",
     "output_type": "stream",
     "text": [
      "0.714425272855\n"
     ]
    }
   ],
   "source": [
    "print(max(auc_lst))"
   ]
  },
  {
   "cell_type": "code",
   "execution_count": 7,
   "metadata": {
    "collapsed": true
   },
   "outputs": [],
   "source": [
    "%matplotlib inline\n",
    "from matplotlib import pyplot"
   ]
  },
  {
   "cell_type": "code",
   "execution_count": 453,
   "metadata": {
    "collapsed": false
   },
   "outputs": [
    {
     "data": {
      "image/png": "[encoded data removed]",
      "text/plain": [
       "<matplotlib.figure.Figure at 0x11b5e58d0>"
      ]
     },
     "metadata": {},
     "output_type": "display_data"
    }
   ],
   "source": [
    "pyplot.plot(n_est, np.array(auc_lst), '-o', color='blue')\n",
    "pyplot.xlabel('n_estimators')\n",
    "pyplot.ylabel('auc')\n",
    "pyplot.xscale('log')\n",
    "pyplot.show()"
   ]
  },
  {
   "cell_type": "markdown",
   "metadata": {},
   "source": [
    "Ну уже где-то на 1000 деревьев всё устаканивается.\n",
    "Лучший результат - 71.44% при 100 деревьях."
   ]
  },
  {
   "cell_type": "markdown",
   "metadata": {},
   "source": [
    "#### 3. Возьмите выборку с парными признаками, для которой счетчики посчитаны с фолдингом. Обучите на ней случайный лес, подобрав число деревьев. Какое качество на тестовой выборке он дает? Чем вы можете объяснить изменение результата по сравнению с предыдущим пунктом?"
   ]
  },
  {
   "cell_type": "code",
   "execution_count": 455,
   "metadata": {
    "collapsed": true
   },
   "outputs": [],
   "source": [
    "auc_lst = []\n",
    "n_est = [1,10,20,30,40,50,100,200,300,400,500,1000,2000,3000,4000,5000,10000,15000,20000]\n",
    "for i in n_est:\n",
    "    rf = ensemble.RandomForestClassifier(n_estimators=i)\n",
    "    rf.fit(new_samp_fol, y)\n",
    "    predict = rf.predict_proba(new_test)\n",
    "    arg = predict[:,1].argsort()\n",
    "    fpr, tpr, thresholds = metrics.roc_curve(test_ans[arg], predict[arg, 1], pos_label=1)\n",
    "    score = metrics.auc(fpr, tpr)\n",
    "    auc_lst.append(score)"
   ]
  },
  {
   "cell_type": "code",
   "execution_count": 456,
   "metadata": {
    "collapsed": false
   },
   "outputs": [
    {
     "name": "stdout",
     "output_type": "stream",
     "text": [
      "0.849145581154\n"
     ]
    }
   ],
   "source": [
    "print(max(auc_lst))"
   ]
  },
  {
   "cell_type": "code",
   "execution_count": 482,
   "metadata": {
    "collapsed": false
   },
   "outputs": [
    {
     "name": "stdout",
     "output_type": "stream",
     "text": [
      "[0.64146172403407031, 0.80420520572976772, 0.82486875692337336, 0.82536682646585025, 0.83831573601433662, 0.83498146458863032, 0.83951683570300495, 0.84726373550539447, 0.84694995978063736, 0.84452242112655918, 0.84914558115361649, 0.84543993656914096, 0.84581005174963209, 0.84644919457042189, 0.84668991769946678, 0.8474703135097521, 0.84691958859078398, 0.84682820545445003, 0.84630821114770027]\n"
     ]
    }
   ],
   "source": [
    "print(auc_lst)"
   ]
  },
  {
   "cell_type": "markdown",
   "metadata": {},
   "source": [
    "Вот сейчас реально в ступоре. Самый лучший результат показала выборка с фолдингом, которая до этого не набирала и 0.6  по метрике качества AUC-ROC. Единственное объяснение, что преобразование выборки фолдами, делает её лучше разделяемой, чем сразу пользуются деревья."
   ]
  },
  {
   "cell_type": "markdown",
   "metadata": {},
   "source": [
    "Здесь вы можете поделиться своими мыслями о задании."
   ]
  },
  {
   "cell_type": "markdown",
   "metadata": {},
   "source": [
    "После странного результата со случайным лесом, мне сложно уже о чём-то писать и я не представляю как буду жить дальше. Ну и выбор о том, какую картинку вставлять стал самым сложным в моей жизни."
   ]
  },
  {
   "cell_type": "markdown",
   "metadata": {},
   "source": [
    "А здесь вставьте смешную картинку."
   ]
  },
  {
   "cell_type": "markdown",
   "metadata": {},
   "source": [
    "<img src = \"image.png\">"
   ]
  },
  {
   "cell_type": "markdown",
   "metadata": {},
   "source": [
    "А здесь посоветуйте преподавателям хороший фильм или сериал."
   ]
  },
  {
   "cell_type": "markdown",
   "metadata": {},
   "source": [
    "Ну сериалы я почти не смотрю (из тех, что смотрел, больше всего понравился \"Вавилон 5\"), поэтому рекомендую фильм \"Кабаре\" 1988г."
   ]
  },
  {
   "cell_type": "code",
   "execution_count": null,
   "metadata": {
    "collapsed": true
   },
   "outputs": [],
   "source": []
  }
 ],
 "metadata": {
  "anaconda-cloud": {},
  "kernelspec": {
   "display_name": "Python [Root]",
   "language": "python",
   "name": "Python [Root]"
  },
  "language_info": {
   "codemirror_mode": {
    "name": "ipython",
    "version": 3
   },
   "file_extension": ".py",
   "mimetype": "text/x-python",
   "name": "python",
   "nbconvert_exporter": "python",
   "pygments_lexer": "ipython3",
   "version": "3.5.2"
  }
 },
 "nbformat": 4,
 "nbformat_minor": 0
}
